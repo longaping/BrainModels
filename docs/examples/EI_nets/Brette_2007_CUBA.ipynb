{
 "cells": [
  {
   "cell_type": "markdown",
   "metadata": {},
   "source": [
    "# _(Brette, et, al., 2007)_ CUBA"
   ]
  },
  {
   "cell_type": "markdown",
   "metadata": {},
   "source": [
    "Implementation of the paper:\n",
    "\n",
    "- Brette, R., Rudolph, M., Carnevale, T., Hines, M., Beeman, D., Bower, J. M., et al. (2007), Simulation of networks of spiking neurons: a review of tools and strategies., J. Comput. Neurosci., 23, 3, 349–98\n",
    "\n",
    "which is based on the balanced network proposed by:\n",
    "\n",
    "- Vogels, T. P. and Abbott, L. F. (2005), Signal propagation and logic gating in networks of integrate-and-fire neurons., J. Neurosci., 25, 46, 10786–95\n",
    "\n",
    "Authors:\n",
    "\n",
    "- Chaoming Wang (chao.brain@qq.com)"
   ]
  },
  {
   "cell_type": "code",
   "execution_count": 1,
   "metadata": {
    "ExecuteTime": {
     "end_time": "2021-03-28T06:02:26.741007Z",
     "start_time": "2021-03-28T06:02:25.182343Z"
    }
   },
   "outputs": [],
   "source": [
    "import brainpy as bp"
   ]
  },
  {
   "cell_type": "code",
   "execution_count": 2,
   "metadata": {
    "ExecuteTime": {
     "end_time": "2021-03-28T06:02:26.791651Z",
     "start_time": "2021-03-28T06:02:26.778654Z"
    }
   },
   "outputs": [],
   "source": [
    "num_exc = 3200\n",
    "num_inh = 800\n",
    "taum = 20\n",
    "taue = 5\n",
    "taui = 10\n",
    "Vt = -50\n",
    "Vr = -60\n",
    "El = -49\n",
    "we = 60 * 0.27 / 10  # excitatory synaptic weight (voltage)\n",
    "wi = -20 * 4.5 / 10  # inhibitory synaptic weight\n",
    "ref = 5.0"
   ]
  },
  {
   "cell_type": "code",
   "execution_count": 3,
   "metadata": {
    "ExecuteTime": {
     "end_time": "2021-03-28T06:02:26.807656Z",
     "start_time": "2021-03-28T06:02:26.794653Z"
    }
   },
   "outputs": [],
   "source": [
    "class LIF(bp.NeuGroup):\n",
    "  target_backend = 'numpy'\n",
    "\n",
    "  def __init__(self, size, **kwargs):\n",
    "    super(LIF, self).__init__(size=size, **kwargs)\n",
    "\n",
    "    self.V = bp.math.Variable(bp.math.ones(size) * Vr)\n",
    "    self.Isyn = bp.math.Variable(bp.math.zeros(size))\n",
    "    self.t_spike = bp.math.Variable(-1e7 * bp.math.ones(size))\n",
    "    self.spike = bp.math.Variable(bp.math.zeros(size, dtype=bool))\n",
    "\n",
    "  @bp.odeint\n",
    "  def int_V(self, V, t, Isyn):\n",
    "    return (Isyn + (El - V)) / taum\n",
    "\n",
    "  def update(self, _t, _dt):\n",
    "    for i in range(self.num):\n",
    "      self.spike[i] = 0.\n",
    "      if (_t - self.t_spike[i]) > ref:\n",
    "        V = self.int_V(self.V[i], _t, self.Isyn[i])\n",
    "        self.spike[i] = 0.\n",
    "        if V >= Vt:\n",
    "          self.V[i] = Vr\n",
    "          self.spike[i] = 1.\n",
    "          self.t_spike[i] = _t\n",
    "        else:\n",
    "          self.V[i] = V\n",
    "    self.Isyn[:] = 0."
   ]
  },
  {
   "cell_type": "code",
   "execution_count": 4,
   "metadata": {
    "ExecuteTime": {
     "end_time": "2021-03-28T06:02:26.823678Z",
     "start_time": "2021-03-28T06:02:26.811660Z"
    }
   },
   "outputs": [],
   "source": [
    "class Syn(bp.TwoEndConn):\n",
    "  target_backend = 'numpy'\n",
    "\n",
    "  def __init__(self, pre, post, conn, w, tau, **kwargs):\n",
    "    super(Syn, self).__init__(pre, post, conn=conn, **kwargs)\n",
    "\n",
    "    # parameters\n",
    "    self.w = w\n",
    "    self.tau = tau\n",
    "\n",
    "    self.pre2post = self.conn.requires('pre2post')  # connections\n",
    "    self.g = bp.math.Variable(bp.math.zeros(post.num))  # variables\n",
    "\n",
    "  @bp.odeint\n",
    "  def int_g(self, g, t):\n",
    "    dg = - g / self.tau\n",
    "    return dg\n",
    "\n",
    "  def update(self, _t, _dt):\n",
    "    self.g[:] = self.int_g(self.g, _t)\n",
    "    for pre_id in range(self.pre.num):\n",
    "      if self.pre.spike[pre_id] > 0.:\n",
    "        post_ids = self.pre2post[pre_id]\n",
    "        for i in post_ids:\n",
    "          self.g[i] += self.w\n",
    "    self.post.Isyn[:] += self.g"
   ]
  },
  {
   "cell_type": "code",
   "execution_count": 5,
   "metadata": {
    "ExecuteTime": {
     "end_time": "2021-03-28T06:02:26.854600Z",
     "start_time": "2021-03-28T06:02:26.827676Z"
    }
   },
   "outputs": [],
   "source": [
    "E = LIF(num_exc, monitors=['spike'])\n",
    "I = LIF(num_inh)\n",
    "E.V[:] = Vr + bp.math.random.rand(num_exc) * (Vt - Vr)\n",
    "I.V[:] = Vr + bp.math.random.rand(num_inh) * (Vt - Vr)"
   ]
  },
  {
   "cell_type": "code",
   "execution_count": 6,
   "metadata": {
    "ExecuteTime": {
     "end_time": "2021-03-28T06:02:26.869754Z",
     "start_time": "2021-03-28T06:02:26.858603Z"
    }
   },
   "outputs": [],
   "source": [
    "E2E = Syn(pre=E, post=E, conn=bp.connect.FixedProb(prob=0.02),\n",
    "          w=we, tau=taue)\n",
    "E2I = Syn(pre=E, post=I, conn=bp.connect.FixedProb(prob=0.02),\n",
    "          w=we, tau=taue)\n",
    "I2E = Syn(pre=I, post=E, conn=bp.connect.FixedProb(prob=0.02),\n",
    "          w=wi, tau=taui)\n",
    "I2I = Syn(pre=I, post=I, conn=bp.connect.FixedProb(prob=0.02),\n",
    "          w=wi, tau=taui)\n",
    "net = bp.Network(E, I, E2E, E2I, I2I, I2E)\n",
    "net = bp.math.jit(net)"
   ]
  },
  {
   "cell_type": "code",
   "execution_count": 7,
   "metadata": {
    "ExecuteTime": {
     "end_time": "2021-03-28T06:02:28.007105Z",
     "start_time": "2021-03-28T06:02:26.876748Z"
    }
   },
   "outputs": [
    {
     "name": "stdout",
     "output_type": "stream",
     "text": [
      "Compilation used 4.1752 s.\n",
      "Start running ...\n",
      "Run 10.0% used 0.022 s.\n",
      "Run 20.0% used 0.042 s.\n",
      "Run 30.0% used 0.062 s.\n",
      "Run 40.0% used 0.083 s.\n",
      "Run 50.0% used 0.106 s.\n",
      "Run 60.0% used 0.129 s.\n",
      "Run 70.0% used 0.151 s.\n",
      "Run 80.0% used 0.172 s.\n",
      "Run 90.0% used 0.193 s.\n",
      "Run 100.0% used 0.214 s.\n",
      "Simulation is done in 0.214 s.\n",
      "\n"
     ]
    },
    {
     "data": {
      "image/png": "[encoded data removed]",
      "text/plain": [
       "<Figure size 432x288 with 1 Axes>"
      ]
     },
     "metadata": {
      "needs_background": "light"
     },
     "output_type": "display_data"
    }
   ],
   "source": [
    "net.run(400., report=0.1)\n",
    "bp.visualize.raster_plot(E.mon.ts, E.mon.spike, show=True)"
   ]
  }
 ],
 "metadata": {
  "hide_input": false,
  "jupytext": {
   "encoding": "# -*- coding: utf-8 -*-",
   "formats": "ipynb,py:percent"
  },
  "kernelspec": {
   "display_name": "brainmodels",
   "language": "python",
   "name": "brainmodels"
  },
  "language_info": {
   "codemirror_mode": {
    "name": "ipython",
    "version": 3
   },
   "file_extension": ".py",
   "mimetype": "text/x-python",
   "name": "python",
   "nbconvert_exporter": "python",
   "pygments_lexer": "ipython3",
   "version": "3.7.11"
  },
  "latex_envs": {
   "LaTeX_envs_menu_present": true,
   "autoclose": false,
   "autocomplete": true,
   "bibliofile": "biblio.bib",
   "cite_by": "apalike",
   "current_citInitial": 1,
   "eqLabelWithNumbers": true,
   "eqNumInitial": 1,
   "hotkeys": {
    "equation": "Ctrl-E",
    "itemize": "Ctrl-I"
   },
   "labels_anchors": false,
   "latex_user_defs": false,
   "report_style_numbering": false,
   "user_envs_cfg": false
  },
  "toc": {
   "base_numbering": 1,
   "nav_menu": {},
   "number_sections": false,
   "sideBar": true,
   "skip_h1_title": false,
   "title_cell": "Table of Contents",
   "title_sidebar": "Contents",
   "toc_cell": false,
   "toc_position": {},
   "toc_section_display": true,
   "toc_window_display": false
  },
  "varInspector": {
   "cols": {
    "lenName": 16,
    "lenType": 16,
    "lenVar": 40
   },
   "kernels_config": {
    "python": {
     "delete_cmd_postfix": "",
     "delete_cmd_prefix": "del ",
     "library": "var_list.py",
     "varRefreshCmd": "print(var_dic_list())"
    },
    "r": {
     "delete_cmd_postfix": ") ",
     "delete_cmd_prefix": "rm(",
     "library": "var_list.r",
     "varRefreshCmd": "cat(var_dic_list()) "
    }
   },
   "types_to_exclude": [
    "module",
    "function",
    "builtin_function_or_method",
    "instance",
    "_Feature"
   ],
   "window_display": false
  }
 },
 "nbformat": 4,
 "nbformat_minor": 4
}
