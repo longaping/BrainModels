{
 "cells": [
  {
   "cell_type": "code",
   "execution_count": null,
   "id": "74627fd0",
   "metadata": {},
   "outputs": [],
   "source": [
    "import brainpy as bp\n",
    "import brainpy.math as bm\n",
    "\n",
    "\n",
    "class RNN(bp.Base):\n",
    "  target_backend = 'numpy'\n",
    "\n",
    "  def __init__(self, num_input=2, num_rec=800, num_output=1, tau=10.0,\n",
    "               g=1.5, pc=0.1, noise=0.001, delta=1.0, plastic_prob=0.6, dt=1.):\n",
    "    super(RNN, self).__init__()\n",
    "\n",
    "    # Copy the parameters\n",
    "    self.num_input = num_input  # number of input neurons\n",
    "    self.num_rec = num_rec  # number of recurrent neurons\n",
    "    self.num_output = num_output  # number of read-out neurons\n",
    "    self.tau = tau  # time constant of the neurons\n",
    "    self.g = g  # synaptic strength scaling\n",
    "    self.pc = pc  # connection probability\n",
    "    self.noise = noise  # noise variance\n",
    "    self.delta = delta  # initial value of the P matrix\n",
    "    self.plastic_prob = plastic_prob  # percentage of neurons receiving plastic synapses\n",
    "    self.dt = dt  # numerical precision\n",
    "\n",
    "    # variables\n",
    "    self.x = bm.Variable(bm.random.uniform(-1.0, 1.0, (self.num_rec,)))\n",
    "    self.r = bm.Variable(bm.tanh(self.x))\n",
    "    self.z = bm.Variable(bm.zeros(self.num_output, dtype=bm.float_))"
   ]
  }
 ],
 "metadata": {
  "kernelspec": {
   "display_name": "brainpy",
   "language": "python",
   "name": "brainpy"
  },
  "language_info": {
   "codemirror_mode": {
    "name": "ipython",
    "version": 3
   },
   "file_extension": ".py",
   "mimetype": "text/x-python",
   "name": "python",
   "nbconvert_exporter": "python",
   "pygments_lexer": "ipython3",
   "version": "3.8.11"
  },
  "latex_envs": {
   "LaTeX_envs_menu_present": true,
   "autoclose": false,
   "autocomplete": true,
   "bibliofile": "biblio.bib",
   "cite_by": "apalike",
   "current_citInitial": 1,
   "eqLabelWithNumbers": true,
   "eqNumInitial": 1,
   "hotkeys": {
    "equation": "Ctrl-E",
    "itemize": "Ctrl-I"
   },
   "labels_anchors": false,
   "latex_user_defs": false,
   "report_style_numbering": false,
   "user_envs_cfg": false
  },
  "toc": {
   "base_numbering": 1,
   "nav_menu": {},
   "number_sections": true,
   "sideBar": true,
   "skip_h1_title": false,
   "title_cell": "Table of Contents",
   "title_sidebar": "Contents",
   "toc_cell": false,
   "toc_position": {},
   "toc_section_display": true,
   "toc_window_display": false
  }
 },
 "nbformat": 4,
 "nbformat_minor": 5
}
