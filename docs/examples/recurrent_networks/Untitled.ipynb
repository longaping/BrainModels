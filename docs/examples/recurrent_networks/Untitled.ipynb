{
 "cells": [
  {
   "cell_type": "code",
   "execution_count": null,
   "id": "0133eda6",
   "metadata": {},
   "outputs": [],
   "source": [
    "import brainpy as bp\n",
    "import brainpy.math.jax as bm\n",
    "import matplotlib.pyplot as plt\n",
    "\n",
    "bp.math.use_backend('jax')\n",
    "\n",
    "class EchoStateNet(bp.DynamicalSystem):\n",
    "  def __init__(self, num_input, num_hidden, num_output,\n",
    "               tau=1.0, dt=0.1, g=1.8, alpha=1.0, **kwargs):\n",
    "    super(EchoStateNet, self).__init__(**kwargs)\n",
    "\n",
    "    # parameters\n",
    "    self.tau = tau\n",
    "    self.dt = dt\n",
    "    self.alpha = alpha\n",
    "\n",
    "    # weights\n",
    "    self.w_ir = bm.random.normal(size=(num_input, num_hidden)) / bm.sqrt(num_input)\n",
    "    self.w_rr = g * bm.random.normal(size=(num_hidden, num_hidden)) / bm.sqrt(num_hidden)\n",
    "    self.w_or = bm.random.normal(size=(num_output, num_hidden))\n",
    "    w_ro = bm.random.normal(size=(num_hidden, num_output)) / bm.sqrt(num_hidden)\n",
    "    self.w_ro = bm.Variable(w_ro)\n",
    "\n",
    "    # variables\n",
    "    self.h = bm.Variable(bm.random.normal(size=num_hidden) * 0.25)  # hidden\n",
    "    self.r = bm.tanh(self.h)  # firing rate\n",
    "    self.o = bm.Variable(bm.dot(self.r, w_ro))  # output unit\n",
    "    self.P = bm.Variable(bm.eye(num_hidden) * self.alpha)  # inverse correlation matrix\n",
    "\n",
    "  def update(self, x, **kwargs):\n",
    "    dhdt = -self.h + bm.dot(x, self.w_ir)\n",
    "    dhdt += bm.dot(self.r, self.w_rr)\n",
    "    dhdt += bm.dot(self.o, self.w_or)\n",
    "    self.h += self.dt / self.tau * dhdt\n",
    "    self.r.value = bm.tanh(self.h)\n",
    "    self.o.value = bm.dot(self.r, self.w_ro)\n",
    "\n",
    "  def rls(self, target):\n",
    "    # update inverse correlation matrix\n",
    "    k = bm.expand_dims(bm.dot(self.P, self.r), axis=1)  # (num_hidden, 1)\n",
    "    hPh = bm.dot(self.r.T, k)  # (1,)\n",
    "    c = 1.0 / (1.0 + hPh)  # (1,)\n",
    "    self.P -= bm.dot(k * c, k.T) # (num_hidden, num_hidden)\n",
    "    # update the output weights\n",
    "    e = bm.atleast_2d(self.o - target)  # (1, num_output)\n",
    "    dw = bm.dot(-c * k, e)  # (num_hidden, num_output)\n",
    "    self.w_ro += dw\n",
    "\n",
    "  def simulate(self, xs):\n",
    "    f = bm.easy_scan(self.update, dyn_vars=[self.h, self.r, self.o], out_vars=[self.r, self.o])\n",
    "    return f(xs)\n",
    "\n",
    "  def train(self, xs, targets):\n",
    "    def _f(x):\n",
    "      input, target = x\n",
    "      self.update(input)\n",
    "      self.rls(target)\n",
    "\n",
    "    f = bm.easy_scan(_f, dyn_vars=self.vars(), out_vars=[self.r, self.o])\n",
    "    return f([xs, targets])"
   ]
  },
  {
   "cell_type": "code",
   "execution_count": null,
   "id": "1664cac8",
   "metadata": {},
   "outputs": [],
   "source": [
    "esn = EchoStateNet(num_input=1, num_hidden=500, \n",
    "                   num_output=20, dt=dt, g=1.5)\n",
    "rs, ys = esn.simulate(xs)  # the untrained ESN"
   ]
  },
  {
   "cell_type": "code",
   "execution_count": null,
   "id": "6492213b",
   "metadata": {},
   "outputs": [],
   "source": [
    "esn = EchoStateNet(num_input=1, num_hidden=500, \n",
    "                   num_output=20, dt=dt, g=1.5, alpha=1.)\n",
    "for i in range(10):\n",
    "    rs, ys = esn.train(xs=xs, targets=targets)  # train once"
   ]
  }
 ],
 "metadata": {
  "kernelspec": {
   "display_name": "brainpy",
   "language": "python",
   "name": "brainpy"
  },
  "language_info": {
   "codemirror_mode": {
    "name": "ipython",
    "version": 3
   },
   "file_extension": ".py",
   "mimetype": "text/x-python",
   "name": "python",
   "nbconvert_exporter": "python",
   "pygments_lexer": "ipython3",
   "version": "3.8.11"
  },
  "latex_envs": {
   "LaTeX_envs_menu_present": true,
   "autoclose": false,
   "autocomplete": true,
   "bibliofile": "biblio.bib",
   "cite_by": "apalike",
   "current_citInitial": 1,
   "eqLabelWithNumbers": true,
   "eqNumInitial": 1,
   "hotkeys": {
    "equation": "Ctrl-E",
    "itemize": "Ctrl-I"
   },
   "labels_anchors": false,
   "latex_user_defs": false,
   "report_style_numbering": false,
   "user_envs_cfg": false
  },
  "toc": {
   "base_numbering": 1,
   "nav_menu": {},
   "number_sections": true,
   "sideBar": true,
   "skip_h1_title": false,
   "title_cell": "Table of Contents",
   "title_sidebar": "Contents",
   "toc_cell": false,
   "toc_position": {},
   "toc_section_display": true,
   "toc_window_display": false
  }
 },
 "nbformat": 4,
 "nbformat_minor": 5
}
