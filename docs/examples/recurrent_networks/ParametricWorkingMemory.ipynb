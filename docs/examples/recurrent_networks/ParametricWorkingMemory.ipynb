{
 "cells": [
  {
   "cell_type": "code",
   "execution_count": 1,
   "id": "ab0086a8",
   "metadata": {},
   "outputs": [],
   "source": [
    "import numpy as np\n",
    "import torch\n",
    "import torch.nn as nn\n",
    "import torch.optim as optim\n",
    "\n",
    "from sklearn.decomposition import PCA\n",
    "\n",
    "import neurogym as ngym\n",
    "import matplotlib.pyplot as plt"
   ]
  },
  {
   "cell_type": "code",
   "execution_count": 2,
   "id": "4568569b",
   "metadata": {},
   "outputs": [
    {
     "data": {
      "image/png": "[encoded data removed]",
      "text/plain": [
       "<Figure size 360x345.6 with 4 Axes>"
      ]
     },
     "metadata": {
      "needs_background": "light"
     },
     "output_type": "display_data"
    }
   ],
   "source": [
    "# Environment\n",
    "task = 'DelayComparison-v0'\n",
    "timing = {'delay': ('choice', [200, 400, 800, 1600, 3200]),\n",
    "          'response': ('constant', 500)}\n",
    "kwargs = {'dt': 100, 'timing': timing}\n",
    "seq_len = 100\n",
    "\n",
    "# Make supervised dataset\n",
    "dataset = ngym.Dataset(task,\n",
    "                       env_kwargs=kwargs,\n",
    "                       batch_size=16,\n",
    "                       seq_len=seq_len)\n",
    "\n",
    "# A sample environment from dataset\n",
    "env = dataset.env\n",
    "# Visualize the environment with 2 sample trials\n",
    "_ = ngym.utils.plot_env(env, num_trials=2, def_act=0)\n",
    "\n",
    "# Network input and output size\n",
    "input_size = env.observation_space.shape[0]\n",
    "output_size = env.action_space.n"
   ]
  },
  {
   "cell_type": "code",
   "execution_count": 3,
   "id": "6e6338ac",
   "metadata": {},
   "outputs": [],
   "source": [
    "class CTRNN(nn.Module):\n",
    "  def __init__(self, input_size, hidden_size, dt=None, **kwargs):\n",
    "    super().__init__()\n",
    "    self.input_size = input_size\n",
    "    self.hidden_size = hidden_size\n",
    "    self.tau = 100\n",
    "    if dt is None:\n",
    "      alpha = 1\n",
    "    else:\n",
    "      alpha = dt / self.tau\n",
    "    self.alpha = alpha\n",
    "    self.oneminusalpha = 1 - alpha\n",
    "\n",
    "    self.input2h = nn.Linear(input_size, hidden_size)\n",
    "    self.h2h = nn.Linear(hidden_size, hidden_size)\n",
    "\n",
    "  def init_hidden(self, input_shape):\n",
    "    batch_size = input_shape[1]\n",
    "    return torch.zeros(batch_size, self.hidden_size)\n",
    "\n",
    "  def recurrence(self, input, hidden):\n",
    "    \"\"\"Recurrence helper.\"\"\"\n",
    "    pre_activation = self.input2h(input) + self.h2h(hidden)\n",
    "    h_new = torch.relu(hidden * self.oneminusalpha +\n",
    "                       pre_activation * self.alpha)\n",
    "    return h_new\n",
    "\n",
    "  def forward(self, input, hidden=None):\n",
    "    \"\"\"Propogate input through the network.\"\"\"\n",
    "    if hidden is None:\n",
    "      hidden = self.init_hidden(input.shape).to(input.device)\n",
    "\n",
    "    output = []\n",
    "    steps = range(input.size(0))\n",
    "    for i in steps:\n",
    "      hidden = self.recurrence(input[i], hidden)\n",
    "      output.append(hidden)\n",
    "\n",
    "    output = torch.stack(output, dim=0)\n",
    "    return output, hidden"
   ]
  },
  {
   "cell_type": "code",
   "execution_count": 4,
   "id": "7ab10920",
   "metadata": {},
   "outputs": [],
   "source": [
    "class RNNNet(nn.Module):\n",
    "  \"\"\"Recurrent network model.\n",
    "\n",
    "  Args:\n",
    "      input_size: int, input size\n",
    "      hidden_size: int, hidden size\n",
    "      output_size: int, output size\n",
    "      rnn: str, type of RNN, lstm, rnn, ctrnn, or eirnn\n",
    "  \"\"\"\n",
    "\n",
    "  def __init__(self, input_size, hidden_size, output_size, **kwargs):\n",
    "    super().__init__()\n",
    "\n",
    "    # Continuous time RNN\n",
    "    self.rnn = CTRNN(input_size, hidden_size, **kwargs)\n",
    "    self.fc = nn.Linear(hidden_size, output_size)\n",
    "\n",
    "  def forward(self, x):\n",
    "    rnn_activity, _ = self.rnn(x)\n",
    "    out = self.fc(rnn_activity)\n",
    "    return out, rnn_activity"
   ]
  },
  {
   "cell_type": "code",
   "execution_count": 5,
   "id": "dc6b34a4",
   "metadata": {},
   "outputs": [
    {
     "name": "stdout",
     "output_type": "stream",
     "text": [
      "RNNNet(\n",
      "  (rnn): CTRNN(\n",
      "    (input2h): Linear(in_features=2, out_features=64, bias=True)\n",
      "    (h2h): Linear(in_features=64, out_features=64, bias=True)\n",
      "  )\n",
      "  (fc): Linear(in_features=64, out_features=3, bias=True)\n",
      ")\n"
     ]
    }
   ],
   "source": [
    "# Instantiate the network and print information\n",
    "hidden_size = 64\n",
    "net = RNNNet(input_size=input_size,\n",
    "             hidden_size=hidden_size,\n",
    "             output_size=output_size,\n",
    "             dt=env.dt)\n",
    "print(net)\n",
    "\n",
    "# Use Adam optimizer\n",
    "optimizer = optim.Adam(net.parameters(), lr=0.001)\n",
    "criterion = nn.CrossEntropyLoss()"
   ]
  },
  {
   "cell_type": "code",
   "execution_count": 6,
   "id": "4866ba2a",
   "metadata": {
    "lines_to_next_cell": 2
   },
   "outputs": [
    {
     "name": "stdout",
     "output_type": "stream",
     "text": [
      "Step 100, Loss 0.2871, Acc 0.000\n",
      "Step 200, Loss 0.0842, Acc 0.084\n",
      "Step 300, Loss 0.0403, Acc 0.559\n",
      "Step 400, Loss 0.0285, Acc 0.694\n",
      "Step 500, Loss 0.0239, Acc 0.754\n",
      "Step 600, Loss 0.0212, Acc 0.783\n",
      "Step 700, Loss 0.0184, Acc 0.807\n",
      "Step 800, Loss 0.0176, Acc 0.819\n",
      "Step 900, Loss 0.0152, Acc 0.852\n",
      "Step 1000, Loss 0.0128, Acc 0.879\n",
      "Step 1100, Loss 0.0108, Acc 0.897\n",
      "Step 1200, Loss 0.0103, Acc 0.900\n",
      "Step 1300, Loss 0.0103, Acc 0.895\n",
      "Step 1400, Loss 0.0100, Acc 0.903\n",
      "Step 1500, Loss 0.0102, Acc 0.892\n",
      "Step 1600, Loss 0.0081, Acc 0.917\n",
      "Step 1700, Loss 0.0096, Acc 0.899\n",
      "Step 1800, Loss 0.0088, Acc 0.909\n",
      "Step 1900, Loss 0.0085, Acc 0.909\n",
      "Step 2000, Loss 0.0079, Acc 0.918\n"
     ]
    }
   ],
   "source": [
    "running_loss = 0\n",
    "running_acc = 0\n",
    "for i in range(2000):\n",
    "  inputs, labels_np = dataset()\n",
    "  labels_np = labels_np.flatten()\n",
    "  inputs = torch.from_numpy(inputs).type(torch.float)\n",
    "  labels = torch.from_numpy(labels_np).type(torch.long)\n",
    "\n",
    "  # in your training loop:\n",
    "  optimizer.zero_grad()  # zero the gradient buffers\n",
    "  output, _ = net(inputs)\n",
    "  output = output.view(-1, output_size)\n",
    "  loss = criterion(output, labels)\n",
    "  loss.backward()\n",
    "  optimizer.step()  # Does the update\n",
    "\n",
    "  running_loss += loss.item()\n",
    "  # Compute performance\n",
    "  output_np = np.argmax(output.detach().numpy(), axis=-1)\n",
    "  ind = labels_np > 0  # Only analyze time points when target is not fixation\n",
    "  running_acc += np.mean(labels_np[ind] == output_np[ind])\n",
    "  if i % 100 == 99:\n",
    "    running_loss /= 100\n",
    "    running_acc /= 100\n",
    "    print('Step {}, Loss {:0.4f}, Acc {:0.3f}'.format(i + 1, running_loss, running_acc))\n",
    "    running_loss = 0\n",
    "    running_acc = 0"
   ]
  },
  {
   "cell_type": "markdown",
   "id": "9ea7f096",
   "metadata": {},
   "source": [
    "# Visualization"
   ]
  },
  {
   "cell_type": "code",
   "execution_count": 15,
   "id": "f555d95e",
   "metadata": {},
   "outputs": [],
   "source": [
    "def run(num_trial = 1):\n",
    "    env.reset(no_step=True)\n",
    "    perf = 0\n",
    "    activity_dict = {}\n",
    "    trial_infos = {}\n",
    "    for i in range(num_trial):\n",
    "      env.new_trial()\n",
    "      ob, gt = env.ob, env.gt\n",
    "      inputs = torch.from_numpy(ob[:, np.newaxis, :]).type(torch.float)\n",
    "      action_pred, rnn_activity = net(inputs)\n",
    "      rnn_activity = rnn_activity[:, 0, :].detach().numpy()\n",
    "      activity_dict[i] = rnn_activity\n",
    "      trial_infos[i] = env.trial\n",
    "    \n",
    "    # Concatenate activity for PCA\n",
    "    activity = np.concatenate(list(activity_dict[i] for i in range(num_trial)), axis=0)\n",
    "    print('Shape of the neural activity: (Time points, Neurons): ', activity.shape)\n",
    "\n",
    "    # Print trial informations\n",
    "    for i in range(5):\n",
    "      if i >= num_trial: break\n",
    "      print('Trial ', i, trial_infos[i])\n",
    "    \n",
    "    pca = PCA(n_components=2)\n",
    "    pca.fit(activity)\n",
    "    # print('Shape of the projected activity: (Time points, PCs): ', activity_pc.shape)\n",
    "    \n",
    "    fig, (ax1, ax2) = plt.subplots(1, 2, sharey=True, sharex=True, figsize=(6, 3))\n",
    "    for i in range(num_trial):\n",
    "        activity_pc = pca.transform(activity_dict[i])\n",
    "        trial = trial_infos[i]\n",
    "        color = 'red' if trial['ground_truth'] == 0 else 'blue'\n",
    "        _ = ax1.plot(activity_pc[:, 0], activity_pc[:, 1], 'o-', color=color)\n",
    "        if i < 3:\n",
    "            _ = ax2.plot(activity_pc[:, 0], activity_pc[:, 1], 'o-', color=color)\n",
    "    ax1.set_xlabel('PC 1')\n",
    "    ax1.set_ylabel('PC 2')"
   ]
  },
  {
   "cell_type": "code",
   "execution_count": 16,
   "id": "7fddce83",
   "metadata": {},
   "outputs": [
    {
     "name": "stdout",
     "output_type": "stream",
     "text": [
      "Shape of the neural activity: (Time points, Neurons):  (18, 64)\n",
      "Trial  0 {'ground_truth': 1, 'vpair': (22, 14), 'v1': 22, 'v2': 14}\n"
     ]
    },
    {
     "data": {
      "image/png": "[encoded data removed]",
      "text/plain": [
       "<Figure size 432x216 with 2 Axes>"
      ]
     },
     "metadata": {
      "needs_background": "light"
     },
     "output_type": "display_data"
    }
   ],
   "source": [
    "run(num_trial=1)"
   ]
  },
  {
   "cell_type": "code",
   "execution_count": 18,
   "id": "96f50a4a",
   "metadata": {},
   "outputs": [
    {
     "name": "stdout",
     "output_type": "stream",
     "text": [
      "Shape of the neural activity: (Time points, Neurons):  (562, 64)\n",
      "Trial  0 {'ground_truth': 1, 'vpair': (18, 10), 'v1': 18, 'v2': 10}\n",
      "Trial  1 {'ground_truth': 2, 'vpair': (34, 26), 'v1': 26, 'v2': 34}\n",
      "Trial  2 {'ground_truth': 1, 'vpair': (26, 18), 'v1': 26, 'v2': 18}\n",
      "Trial  3 {'ground_truth': 2, 'vpair': (30, 22), 'v1': 22, 'v2': 30}\n",
      "Trial  4 {'ground_truth': 1, 'vpair': (30, 22), 'v1': 30, 'v2': 22}\n"
     ]
    },
    {
     "data": {
      "image/png": "[encoded data removed]",
      "text/plain": [
       "<Figure size 432x216 with 2 Axes>"
      ]
     },
     "metadata": {
      "needs_background": "light"
     },
     "output_type": "display_data"
    }
   ],
   "source": [
    "run(num_trial=20)"
   ]
  },
  {
   "cell_type": "code",
   "execution_count": 17,
   "id": "8ae8346b",
   "metadata": {},
   "outputs": [
    {
     "name": "stdout",
     "output_type": "stream",
     "text": [
      "Shape of the neural activity: (Time points, Neurons):  (3114, 64)\n",
      "Trial  0 {'ground_truth': 1, 'vpair': (34, 26), 'v1': 34, 'v2': 26}\n",
      "Trial  1 {'ground_truth': 2, 'vpair': (22, 14), 'v1': 14, 'v2': 22}\n",
      "Trial  2 {'ground_truth': 2, 'vpair': (30, 22), 'v1': 22, 'v2': 30}\n",
      "Trial  3 {'ground_truth': 2, 'vpair': (30, 22), 'v1': 22, 'v2': 30}\n",
      "Trial  4 {'ground_truth': 1, 'vpair': (26, 18), 'v1': 26, 'v2': 18}\n"
     ]
    },
    {
     "data": {
      "image/png": "[encoded data removed]",
      "text/plain": [
       "<Figure size 432x216 with 2 Axes>"
      ]
     },
     "metadata": {
      "needs_background": "light"
     },
     "output_type": "display_data"
    }
   ],
   "source": [
    "run(num_trial=100)"
   ]
  }
 ],
 "metadata": {
  "jupytext": {
   "formats": "ipynb,py:percent",
   "text_representation": {
    "extension": ".py",
    "format_name": "percent",
    "format_version": "1.3",
    "jupytext_version": "1.11.4"
   }
  },
  "kernelspec": {
   "display_name": "brainpy",
   "language": "python",
   "name": "brainpy"
  },
  "language_info": {
   "codemirror_mode": {
    "name": "ipython",
    "version": 3
   },
   "file_extension": ".py",
   "mimetype": "text/x-python",
   "name": "python",
   "nbconvert_exporter": "python",
   "pygments_lexer": "ipython3",
   "version": "3.8.10"
  },
  "latex_envs": {
   "LaTeX_envs_menu_present": true,
   "autoclose": false,
   "autocomplete": true,
   "bibliofile": "biblio.bib",
   "cite_by": "apalike",
   "current_citInitial": 1,
   "eqLabelWithNumbers": true,
   "eqNumInitial": 1,
   "hotkeys": {
    "equation": "Ctrl-E",
    "itemize": "Ctrl-I"
   },
   "labels_anchors": false,
   "latex_user_defs": false,
   "report_style_numbering": false,
   "user_envs_cfg": false
  },
  "toc": {
   "base_numbering": 1,
   "nav_menu": {},
   "number_sections": true,
   "sideBar": true,
   "skip_h1_title": false,
   "title_cell": "Table of Contents",
   "title_sidebar": "Contents",
   "toc_cell": false,
   "toc_position": {},
   "toc_section_display": true,
   "toc_window_display": false
  }
 },
 "nbformat": 4,
 "nbformat_minor": 5
}
